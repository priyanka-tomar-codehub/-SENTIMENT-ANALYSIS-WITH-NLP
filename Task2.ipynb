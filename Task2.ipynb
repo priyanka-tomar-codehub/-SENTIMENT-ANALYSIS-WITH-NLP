# 1. Importing required libraries
import pandas as pd
import matplotlib.pyplot as plt
import seaborn as sns
from sklearn.model_selection import train_test_split
from sklearn.feature_extraction.text import TfidfVectorizer
from sklearn.linear_model import LogisticRegression
from sklearn.metrics import accuracy_score, confusion_matrix, classification_report

# 2. Loading dataset
reviews_data = pd.read_csv("customer_reviews.csv")

print("First 5 rows of dataset:")
print(reviews_data.head())
print("\n Dataset shape (rows, columns):", reviews_data.shape)

# 3. Checking sentiment distribution
print("\n Sentiment distribution:")
print(reviews_data['sentiment'].value_counts())

# Plot sentiment distribution
sns.countplot(x='sentiment', data=reviews_data, palette='Set2')
plt.title("Sentiment Distribution")
plt.show()

# 4. Separating features and labels
reviews = reviews_data['review']   # X → text reviews
labels = reviews_data['sentiment'] # y → sentiments (positive/negative)

# 5. Train-test split
reviews_train, reviews_test, labels_train, labels_test = train_test_split(
    reviews, labels, test_size=0.2, random_state=42
)

# 6. Converting text into numerical form using TF-IDF
tfidf = TfidfVectorizer(stop_words='english', max_features=5000)
X_train = tfidf.fit_transform(reviews_train)
X_test = tfidf.transform(reviews_test)

# 7. Model Training (Logistic Regression)
sentiment_model = LogisticRegression(random_state=42, max_iter=1000)
sentiment_model.fit(X_train, labels_train)

# 8. Predictions on test data
labels_pred = sentiment_model.predict(X_test)

# 9. Model Evaluation
print("\n Model Evaluation:")
print("Accuracy:", accuracy_score(labels_test, labels_pred))
print("\nClassification Report:\n", classification_report(labels_test, labels_pred))

# Confusion Matrix visualization
cm = confusion_matrix(labels_test, labels_pred)
plt.figure(figsize=(5,4))
sns.heatmap(cm, annot=True, fmt='d', cmap='Blues', xticklabels=['Negative','Positive'], yticklabels=['Negative','Positive'])
plt.title("Confusion Matrix Heatmap")
plt.xlabel("Predicted")
plt.ylabel("Actual")
plt.show()
